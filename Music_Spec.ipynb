{
  "nbformat": 4,
  "nbformat_minor": 0,
  "metadata": {
    "colab": {
      "name": "Music Spec.ipynb",
      "provenance": [],
      "collapsed_sections": [],
      "include_colab_link": true
    },
    "kernelspec": {
      "name": "python3",
      "display_name": "Python 3"
    }
  },
  "cells": [
    {
      "cell_type": "markdown",
      "metadata": {
        "id": "view-in-github",
        "colab_type": "text"
      },
      "source": [
        "<a href=\"https://colab.research.google.com/github/danshaub/Spectography/blob/main/Music_Spec.ipynb\" target=\"_parent\"><img src=\"https://colab.research.google.com/assets/colab-badge.svg\" alt=\"Open In Colab\"/></a>"
      ]
    },
    {
      "cell_type": "markdown",
      "metadata": {
        "id": "5atg3u4OGrx3"
      },
      "source": [
        "![Screenshot 2021-01-21 145824.jpg](data:image/jpeg;base64,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)\r\n",
        "---\r\n",
        "Analysis of music genre recognition & affective music classification\r\n",
        "---\r\n",
        "*Robert Farmer, Charles Filce, Dan Haub*\r\n"
      ]
    },
    {
      "cell_type": "code",
      "metadata": {
        "id": "sV2eSf2jOdOC"
      },
      "source": [
        "http://colab.research.google.com/github/googlecolab/colabtools/ "
      ],
      "execution_count": null,
      "outputs": []
    },
    {
      "cell_type": "code",
      "metadata": {
        "id": "LNbpbgzJHiPg",
        "colab": {
          "base_uri": "https://localhost:8080/",
          "height": 367
        },
        "outputId": "b9c75467-f0ab-4769-cb15-b1b0b99c710b"
      },
      "source": [
        "#### Check GPU availability ####\r\n",
        "#!pip install gputil\r\n",
        "#!pip install psutil\r\n",
        "#!pip install humanize\r\n",
        "\r\n",
        "# Import packages\r\n",
        "import os,sys,humanize,psutil,GPUtil\r\n",
        "\r\n",
        "# Define function\r\n",
        "def mem_report():\r\n",
        "  print(\"CPU RAM Free: \" + humanize.naturalsize( psutil.virtual_memory().available ))\r\n",
        "  \r\n",
        "  GPUs = GPUtil.getGPUs()\r\n",
        "  for i, gpu in enumerate(GPUs):\r\n",
        "    print('GPU {:d} ... Mem Free: {:.0f}MB / {:.0f}MB | Utilization {:3.0f}%'.format(i, gpu.memoryFree, gpu.memoryTotal, gpu.memoryUtil*100))\r\n",
        "    \r\n",
        "# Execute function\r\n",
        "mem_report()"
      ],
      "execution_count": null,
      "outputs": [
        {
          "output_type": "error",
          "ename": "ModuleNotFoundError",
          "evalue": "ignored",
          "traceback": [
            "\u001b[0;31m---------------------------------------------------------------------------\u001b[0m",
            "\u001b[0;31mModuleNotFoundError\u001b[0m                       Traceback (most recent call last)",
            "\u001b[0;32m<ipython-input-4-9278db919ef0>\u001b[0m in \u001b[0;36m<module>\u001b[0;34m()\u001b[0m\n\u001b[1;32m      5\u001b[0m \u001b[0;34m\u001b[0m\u001b[0m\n\u001b[1;32m      6\u001b[0m \u001b[0;31m# Import packages\u001b[0m\u001b[0;34m\u001b[0m\u001b[0;34m\u001b[0m\u001b[0;34m\u001b[0m\u001b[0m\n\u001b[0;32m----> 7\u001b[0;31m \u001b[0;32mimport\u001b[0m \u001b[0mos\u001b[0m\u001b[0;34m,\u001b[0m\u001b[0msys\u001b[0m\u001b[0;34m,\u001b[0m\u001b[0mhumanize\u001b[0m\u001b[0;34m,\u001b[0m\u001b[0mpsutil\u001b[0m\u001b[0;34m,\u001b[0m\u001b[0mGPUtil\u001b[0m\u001b[0;34m\u001b[0m\u001b[0;34m\u001b[0m\u001b[0m\n\u001b[0m\u001b[1;32m      8\u001b[0m \u001b[0;34m\u001b[0m\u001b[0m\n\u001b[1;32m      9\u001b[0m \u001b[0;31m# Define function\u001b[0m\u001b[0;34m\u001b[0m\u001b[0;34m\u001b[0m\u001b[0;34m\u001b[0m\u001b[0m\n",
            "\u001b[0;31mModuleNotFoundError\u001b[0m: No module named 'GPUtil'",
            "",
            "\u001b[0;31m---------------------------------------------------------------------------\u001b[0;32m\nNOTE: If your import is failing due to a missing package, you can\nmanually install dependencies using either !pip or !apt.\n\nTo view examples of installing some common dependencies, click the\n\"Open Examples\" button below.\n\u001b[0;31m---------------------------------------------------------------------------\u001b[0m\n"
          ]
        }
      ]
    }
  ]
}